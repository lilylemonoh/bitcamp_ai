{
 "cells": [
  {
   "cell_type": "code",
   "execution_count": 9,
   "id": "c7a997bf",
   "metadata": {},
   "outputs": [
    {
     "data": {
      "text/plain": [
       "'/home/ncp/workspace/tf_study'"
      ]
     },
     "execution_count": 9,
     "metadata": {},
     "output_type": "execute_result"
    }
   ],
   "source": [
    "import os\n",
    "os.getcwd()"
   ]
  },
  {
   "cell_type": "code",
   "execution_count": 12,
   "id": "267fe4a3",
   "metadata": {},
   "outputs": [],
   "source": [
    "import shutil\n",
    "\n",
    "filename = '/home/ncp/workspace/_data/rps.zip'\n",
    "extract_dir = '/home/ncp/workspace/_data/rps'\n",
    "archive_format = \"zip\"\n",
    "\n",
    "shutil.unpack_archive(filename, extract_dir, archive_format)"
   ]
  },
  {
   "cell_type": "code",
   "execution_count": 10,
   "id": "e24dbc9d",
   "metadata": {},
   "outputs": [],
   "source": [
    "'''\n",
    "import zipfile\n",
    "\n",
    "zip_file = zipfile.ZipFile('/home/ncp/workspace/_data/rps.zip')\n",
    "zip_file.extractall()\n",
    "'''"
   ]
  }
 ],
 "metadata": {
  "kernelspec": {
   "display_name": "Python 3",
   "language": "python",
   "name": "python3"
  },
  "language_info": {
   "codemirror_mode": {
    "name": "ipython",
    "version": 3
   },
   "file_extension": ".py",
   "mimetype": "text/x-python",
   "name": "python",
   "nbconvert_exporter": "python",
   "pygments_lexer": "ipython3",
   "version": "3.8.8"
  }
 },
 "nbformat": 4,
 "nbformat_minor": 5
}
